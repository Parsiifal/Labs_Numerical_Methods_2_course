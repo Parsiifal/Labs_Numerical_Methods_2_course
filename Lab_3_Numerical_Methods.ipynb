{
  "nbformat": 4,
  "nbformat_minor": 0,
  "metadata": {
    "colab": {
      "provenance": []
    },
    "kernelspec": {
      "name": "python3",
      "display_name": "Python 3"
    },
    "language_info": {
      "name": "python"
    }
  },
  "cells": [
    {
      "cell_type": "markdown",
      "source": [
        "# Лабораторная работа № 3\n",
        "# Инкин Артем 6206-010302D\n",
        "# Вариант 4"
      ],
      "metadata": {
        "id": "ULWAHKhHvw2k"
      }
    },
    {
      "cell_type": "code",
      "source": [
        "import numpy as np\n",
        "from scipy.integrate import quad\n",
        "import math\n",
        "from scipy.integrate import odeint\n",
        "from prettytable import PrettyTable\n",
        "import matplotlib.pyplot as plt"
      ],
      "metadata": {
        "id": "bzDzuK1kVDwJ"
      },
      "execution_count": null,
      "outputs": []
    },
    {
      "cell_type": "markdown",
      "source": [
        "## Часть 1\n",
        "$$a = -0.5$$\n",
        "$$b = 0.5$$\n",
        "$$f(x) = x * arccos(x)$$"
      ],
      "metadata": {
        "id": "H5Vv8dkmnCAw"
      }
    },
    {
      "cell_type": "markdown",
      "source": [
        "### № 1\n",
        "Найдите шаг интегрирования h для вычисления интеграла\n",
        "\n",
        "$$\n",
        "\\int_{-0.5}^{0.5} x * arccos(x) \\, dx\n",
        "$$\n",
        "\n",
        "по формуле трапеций с точностью ϵ = 0.001. Для вычисления шага воспользуйтесь формулой\n",
        "\n",
        "$$ M = \\frac{|0.5 + 0.5| * h^2}{12} < ϵ,$$\n",
        "\n",
        "$$M = max|(x * arccos(x))''|,$$\n",
        "\n",
        "$$x ∈ [a, b]$$\n",
        "\n",
        "Шаг h следует выбирать с учетом доп. условия: отрезок интегрирования\n",
        "должен разбиваться на число частей, кратное 4."
      ],
      "metadata": {
        "id": "t6VMl7PJvxi-"
      }
    },
    {
      "cell_type": "markdown",
      "source": [
        "---\n",
        "Для вычисления второй производной функции f(x) = x * arccos(x), нам нужно использовать правило производной произведения и производной обратной тригонометрической функции. Вот шаги:\n",
        "\n",
        "Первая производная f'(x):\n",
        "\n",
        "$$\n",
        "f'(x) = \\frac{d}{dx}(x \\cdot \\arccos(x)) = \\arccos(x) - \\frac{x}{\\sqrt{1-x^2}}\n",
        "$$\n",
        "\n",
        "Вторая производная f''(x):\n",
        "\n",
        "$$\n",
        "f''(x) = \\frac{d}{dx}\\left(\\arccos(x) - \\frac{x}{\\sqrt{1-x^2}}\\right) = -\\frac{1}{\\sqrt{1-x^2}} - \\frac{d}{dx}\\left(\\frac{x}{\\sqrt{1-x^2}}\\right)\n",
        "$$\n",
        "\n",
        "Применяем правило производной частного для второго слагаемого:\n",
        "\n",
        "$$\n",
        "f''(x) = -\\frac{1}{\\sqrt{1-x^2}} - \\left[\\frac{\\sqrt{1-x^2} - x \\cdot \\left(-\\frac{1}{2}\\right) \\cdot \\frac{-2x}{\\sqrt{1-x^2}}}{1-x^2}\\right]\n",
        "$$\n",
        "\n",
        "Упрощаем выражение:\n",
        "\n",
        "$$\n",
        "f''(x) = -\\frac{1}{\\sqrt{1-x^2}} - \\frac{1}{(1-x^2)^{\\frac{3}{2}}}\n",
        "$$\n",
        "\n",
        "Окончательная форма второй производной:\n",
        "\n",
        "$$\n",
        "f''(x) = \\frac{x^2 - 2}{(1-x^2)^{\\frac{3}{2}}}\n",
        "$$\n",
        "\n",
        "После нахождения второй производной функции находим третью производную:\n",
        "\n",
        "$$\n",
        "f'''(x) = \\frac{-4x + x^3}{(1-x^2)^{\\frac{5}{2}}}\n",
        "$$\n",
        "\n",
        "и приравниваем ее к 0:\n",
        "\n",
        "$$\n",
        "\\frac{-4x + x^3}{(1-x^2)^{\\frac{5}{2}}} = 0\n",
        "$$\n",
        "\n",
        "откуда получаем x = 0.\n",
        "\n",
        "Затем вычисляем значения функции f''(x) при x = 0 и на концах интервала:\n",
        "$$\n",
        "f''(0)=-2;\n",
        "f''(-0.5)=-2.6943;\n",
        "f''(0.5)=-2.6943\n",
        "$$\n",
        "\n",
        "Отсюда получаем, что $$ M = 2.6943 $$\n",
        "\n",
        "Вычислим шаг интегрирования h:\n",
        "\n",
        "$$\n",
        "2.6943 = \\frac{|0.5 - (-0.5)| \\cdot h^2}{12} < 0.001\n",
        "$$\n",
        "\n",
        "$$\n",
        "h^2 < \\frac{0.001 \\cdot 12}{2.6943}\n",
        "$$\n",
        "\n",
        "$$\n",
        "h^2 < 0.004454...\n",
        "$$\n",
        "\n",
        "$$\n",
        "h < \\sqrt{0.004454...}\n",
        "$$\n",
        "\n",
        "$$\n",
        "h < 0.06675...\n",
        "$$\n",
        "\n",
        "Выбираем h = 0.05, чтобы отрезок интегрирования делился на число частей, кратное 4.\n",
        "\n",
        "\n",
        "\n",
        "\n",
        "\n"
      ],
      "metadata": {
        "id": "797wuG8s5jKX"
      }
    },
    {
      "cell_type": "code",
      "execution_count": null,
      "metadata": {
        "colab": {
          "base_uri": "https://localhost:8080/"
        },
        "id": "kgdOlBNHvqOK",
        "outputId": "af3225a8-93f8-4b01-b0e2-d6c7ca9601c1"
      },
      "outputs": [
        {
          "output_type": "stream",
          "name": "stdout",
          "text": [
            "Шаг интегрирования h: 0.05\n"
          ]
        }
      ],
      "source": [
        "# Находим вторую производную\n",
        "def second_derivative(x):\n",
        "    return (-2 * np.arccos(x) + (x / np.sqrt(1 - x**2)) * (2 - x**2 / (1 - x**2)))\n",
        "\n",
        "# Находим максимум второй производной\n",
        "a, b = -0.5, 0.5\n",
        "x_values = np.linspace(a, b, 1000)\n",
        "max_second_derivative = max(abs(second_derivative(x)) for x in x_values)\n",
        "\n",
        "epsilon = 0.001\n",
        "h = np.sqrt(12 * epsilon / max_second_derivative)\n",
        "\n",
        "# Отрезок должен делиться на число частей, кратное 4\n",
        "n = int((b - a) / h)\n",
        "if n % 4 != 0:\n",
        "    n += 4 - n % 4 # увеличиваем до ближайшего числа, кратного 4\n",
        "h = (b - a) / n\n",
        "\n",
        "print(\"Шаг интегрирования h:\", h)"
      ]
    },
    {
      "cell_type": "markdown",
      "source": [
        "### № 2\n",
        "Вычислите интеграл по формуле трапеций с шагами 2h и h:\n",
        "\n",
        "$$\n",
        "\\int_{-0.5}^{0.5} x * arccos(x) \\, dx \\approx h(\\frac{y_{0}}{2} + y_{1} + y_{2} + ... + \\frac{y_{n}}{2})\n",
        "$$\n",
        "\n",
        "$$\n",
        "y_{i} = f(x_{i})\n",
        "$$\n",
        "\n",
        "Дайте уточненную оценку погрешности по правилу Рунге\n",
        "\n",
        "$$\n",
        "Δ \\approx \\frac{1}{3} |I_{n} - I_{2n}|\n",
        "$$"
      ],
      "metadata": {
        "id": "7SQqdFu3WABg"
      }
    },
    {
      "cell_type": "markdown",
      "source": [
        "---\n",
        "Разделим интервал интегрирования [-0.5, 0.5] на 20 равных частей с шагом h = 0.05. Вычислим значения функции в точках разбиения и применим формулу трапеций:\n",
        "\n",
        "$$\n",
        "I_{h} \\approx 0.05 \\left( \\frac{f(-0.5)}{2} + f(-0.45) + f(-0.4) + \\ldots + f(0.45) + \\frac{f(0.5)}{2} \\right)\n",
        "$$\n",
        "\n",
        "Из чего пролучаем\n",
        "\n",
        "$$ I_{h} \\approx -0.086 $$\n",
        "\n",
        "\n",
        "Разделим интервал интегрирования [-0.5, 0.5] на 10 равных частей с шагом h = 0.1 и применим формулу трапеций:\n",
        "\n",
        "$$\n",
        "I_{2h} \\approx 0.1 \\left( \\frac{f(-0.5)}{2} + f(-0.4) + f(-0.3) + \\ldots + f(0.4) + \\frac{f(0.5)}{2} \\right)\n",
        "$$\n",
        "\n",
        "Из чего пролучаем\n",
        "\n",
        "$$ I_{2h} \\approx -0.0874 $$\n",
        "\n",
        "\n",
        "После вычисления интеграла для шагов h и 2h, оценим погрешность по правилу Рунге:\n",
        "\n",
        "$$\n",
        "Δ \\approx \\frac{1}{3} |-0.086 - (-0.0874)| \\approx 0.00046\n",
        "$$"
      ],
      "metadata": {
        "id": "pJbZLQc8d4kZ"
      }
    },
    {
      "cell_type": "code",
      "source": [
        "def f(x):\n",
        "    return x * np.arccos(x)\n",
        "\n",
        "# Вычисляем интеграл по формуле трапеций\n",
        "def trapezoidal_rule(a, b, h, func):\n",
        "    n = int((b - a) / h)\n",
        "    x = np.linspace(a, b, n+1)\n",
        "    y = func(x)\n",
        "    integral = h * (0.5 * y[0] + np.sum(y[1:-1]) + 0.5 * y[-1])\n",
        "    return integral\n",
        "\n",
        "a, b = -0.5, 0.5\n",
        "h = 0.05\n",
        "\n",
        "# Вычисление интегралов с шагами h и 2h\n",
        "integral_h = trapezoidal_rule(a, b, h, f)\n",
        "integral_2h = trapezoidal_rule(a, b, 2*h, f)\n",
        "\n",
        "# Уточненная оценка погрешности\n",
        "error_estimate = abs(integral_h - integral_2h) / 3\n",
        "\n",
        "print(\"Интеграл с шагом h:\", integral_h)\n",
        "print(\"Интеграл с шагом 2h:\", integral_2h)\n",
        "print(\"Уточненная оценка погрешности Δ:\", error_estimate)"
      ],
      "metadata": {
        "colab": {
          "base_uri": "https://localhost:8080/"
        },
        "id": "pnLQQl-blBax",
        "outputId": "dc66f03d-5342-4912-c91a-57e2e6228fcd"
      },
      "execution_count": null,
      "outputs": [
        {
          "output_type": "stream",
          "name": "stdout",
          "text": [
            "Интеграл с шагом h: -0.08606531911949343\n",
            "Интеграл с шагом 2h: -0.08744051096108223\n",
            "Уточненная оценка погрешности Δ: 0.00045839728052959883\n"
          ]
        }
      ]
    },
    {
      "cell_type": "markdown",
      "source": [
        "### № 3\n",
        "Вычислите интеграл по формуле Симпсона с шагами 2h и h:\n",
        "\n",
        "$$\n",
        "\\int_{-0.5}^{0.5} x * arccos(x) \\, dx \\approx \\frac{h}{3}(y_{0} + y_{2m} + 4(y_{1} + y_{3} + ... + y_{2m-1}) + 2(y_{2} + y_{4} + ... + y_{2m-2}))\n",
        "$$\n",
        "\n",
        "$$\n",
        "y_{i} = f(x_{i})\n",
        "$$\n",
        "\n",
        "Дайте уточненную оценку погрешности по правилу Рунге для\n",
        "формулы Симпсона:\n",
        "\n",
        "$$\n",
        "Δ \\approx \\frac{1}{15} |I_{n} - I_{2n}|\n",
        "$$"
      ],
      "metadata": {
        "id": "blFqIRgdq0KU"
      }
    },
    {
      "cell_type": "markdown",
      "source": [
        "---\n",
        "Разделим интервал интегрирования [-0.5, 0.5] на 20 равных частей с шагом h = 0.05 и применим формулу Симпсона:\n",
        "\n",
        "$$\n",
        "I_{h} \\approx 0.15 \\left( f(-0.5) + f(0.5) + 4 \\sum_{i=1,3,...}^{2m-1} x_{i} * arccos(x_{i}) + 2 \\sum_{i=2,4,...}^{2m-2} x_{i} * arccos(x_{i}) \\right)\n",
        "$$\n",
        "\n",
        "Из чего пролучаем\n",
        "\n",
        "$$ I_{h} \\approx -0.085607 $$\n",
        "\n",
        "\n",
        "Разделим интервал интегрирования [-0.5, 0.5] на 10 равных частей с шагом h = 0.1 и применим формулу Симпсона:\n",
        "\n",
        "$$\n",
        "I_{2h} \\approx \\frac{1}{30} \\left( f(-0.5) + f(0.5) + 4 \\sum_{i=1,3,...}^{2m-1} x_{i} * arccos(x_{i}) + 2 \\sum_{i=2,4,...}^{2m-2} x_{i} * arccos(x_{i}) \\right)\n",
        "$$\n",
        "\n",
        "Из чего пролучаем\n",
        "\n",
        "$$ I_{2h} \\approx -0.085611 $$\n",
        "\n",
        "\n",
        "После вычисления интеграла для шагов h и 2h, оценим погрешность по правилу Рунге:\n",
        "\n",
        "$$\n",
        "Δ \\approx \\frac{1}{15} |-0.085607 - (-0.085611)| \\approx 2.6 * 10^{-7}\n",
        "$$"
      ],
      "metadata": {
        "id": "KAhaspRZrVnc"
      }
    },
    {
      "cell_type": "code",
      "source": [
        "def f(x):\n",
        "    return x * np.arccos(x)\n",
        "\n",
        "# Вычисляем интеграл по формуле Симпсона\n",
        "def simpson_rule(a, b, h, func):\n",
        "    n = int((b - a) / h)\n",
        "    if n % 2 == 1:  # проверяем что n должно быть четным числом\n",
        "        n += 1\n",
        "    x = np.linspace(a, b, n+1)\n",
        "    y = func(x)\n",
        "    integral = h/3 * (y[0] + y[-1] + 4 * np.sum(y[1:-1:2]) + 2 * np.sum(y[2:-2:2]))\n",
        "    return integral\n",
        "\n",
        "a, b = -0.5, 0.5\n",
        "h = 0.05\n",
        "\n",
        "# Вычисление интегралов с шагами h и 2h\n",
        "integral_h = simpson_rule(a, b, h, f)\n",
        "integral_2h = simpson_rule(a, b, 2*h, f)\n",
        "\n",
        "# Уточненная оценка погрешности\n",
        "error_estimate = abs(integral_h - integral_2h) / 15\n",
        "\n",
        "print(\"Интеграл с шагом h:\", integral_h)\n",
        "print(\"Интеграл с шагом 2h:\", integral_2h)\n",
        "print(\"Уточненная оценка погрешности Δ:\", error_estimate)"
      ],
      "metadata": {
        "id": "EMyx8l1nrWP7",
        "colab": {
          "base_uri": "https://localhost:8080/"
        },
        "outputId": "027b469d-19b1-463f-c3cc-a6f41ecfe0be"
      },
      "execution_count": null,
      "outputs": [
        {
          "output_type": "stream",
          "name": "stdout",
          "text": [
            "Интеграл с шагом h: -0.08560692183896379\n",
            "Интеграл с шагом 2h: -0.08561078365206298\n",
            "Уточненная оценка погрешности Δ: 2.5745420661286527e-07\n"
          ]
        }
      ]
    },
    {
      "cell_type": "markdown",
      "source": [
        "### № 4\n",
        "Найдите значение интеграла с помощью функций Python\n",
        "\n",
        "$$\n",
        "\\int_{-0.5}^{0.5} x * arccos(x) \\, dx\n",
        "$$"
      ],
      "metadata": {
        "id": "Svqr5SPkTazj"
      }
    },
    {
      "cell_type": "code",
      "source": [
        "def integrand(x):\n",
        "    return x * np.arccos(x)\n",
        "integral_value, _ = quad(integrand, -0.5, 0.5)\n",
        "print(\"Значение интеграла:\", integral_value)"
      ],
      "metadata": {
        "colab": {
          "base_uri": "https://localhost:8080/"
        },
        "id": "NUa0IPaZT6Zk",
        "outputId": "5ffaf0b5-4f16-4999-fb47-311a77a19d1b"
      },
      "execution_count": null,
      "outputs": [
        {
          "output_type": "stream",
          "name": "stdout",
          "text": [
            "Значение интеграла: -0.08560665704653493\n"
          ]
        }
      ]
    },
    {
      "cell_type": "markdown",
      "source": [
        "### № 5\n",
        "Вычислите определенный интеграл по формуле Ньютона-Лейбница. (вычисления должны присутствовать в текстовом блоке). Сравните приближенные значения интеграла с точным. Какая формула численного интегрирования дала более точный результат?"
      ],
      "metadata": {
        "id": "GHRxz2sVVZvL"
      }
    },
    {
      "cell_type": "markdown",
      "source": [
        "---\n",
        "Интегрирование по частям:\n",
        "\n",
        "$$∫ u dv = uv - ∫ v du$$\n",
        "\n",
        "$$u = arccos(x)$$\n",
        "$$du = - \\frac{1}{\\sqrt{1-x^2}}$$\n",
        "$$dv = xdx$$\n",
        "$$v = \\int x\\,dx = \\frac{x^2}{2}$$\n",
        "\n",
        "$$ \\frac{x^2 arccos(x)}{2} + \\int \\frac{x^2}{2\\sqrt{1-x^2}}\\,dx = \\frac{x^2 arccos(x)}{2} + \\frac{1}{2} \\left(- \\frac{x \\sqrt{1-x^2}}{2} + \\frac{1}{2} \\cdot arcsin(x) \\right) = \\frac{x^2 arccos(x)}{2} + \\frac{arcsin(x)}{4} - \\frac{x \\sqrt{1-x^2}}{4}$$\n",
        "\n",
        "$$\n",
        "\\int_{-0.5}^{0.5} x * arccos(x) \\, dx = \\left (\\frac{x^2 arccos(x)}{2} + \\frac{arcsin(x)}{4} - \\frac{x \\sqrt{1-x^2}}{4} \\right) \\bigg|_{-0.5}^{0.5} \\approx -0.085606657\n",
        "$$\n",
        "\n",
        "В результате можно заметить, что метод Симпсона дал более\n",
        "точный результат."
      ],
      "metadata": {
        "id": "EHEUe0U_Vj1R"
      }
    },
    {
      "cell_type": "markdown",
      "source": [
        "---\n",
        "## Часть 2 Вариант 10 (так как в моем некорректное уравнение)\n",
        "\n",
        "Задача Коши:\n",
        "\n",
        "$$\n",
        "xy' + y = 2y^2ln(x),\n",
        "$$\n",
        "$$y(1) = 0.5$$\n",
        "$$a = 1$$\n",
        "$$b = 5$$"
      ],
      "metadata": {
        "id": "12zesA7AoeB9"
      }
    },
    {
      "cell_type": "markdown",
      "source": [
        "### № 1\n",
        "Найдите шаг интегрирования h для решения задачи Коши методом Рунге-Кутта\n",
        "(IV) с точностью 10^(-4)"
      ],
      "metadata": {
        "id": "IQtVxagzpw34"
      }
    },
    {
      "cell_type": "markdown",
      "source": [
        "---\n",
        "Начальный шаг $h_0$ должен быть определен из двух условий:\n",
        "$$h_{0}^44=ϵ$$\n",
        "$$\\frac{b-a}{h_0} - четно.$$\n",
        "\n",
        "Согласно первому условию $$h_0 = \\sqrt[4]{0.0001} = 0.1.$$"
      ],
      "metadata": {
        "id": "jJqcyfKYp8GC"
      }
    },
    {
      "cell_type": "code",
      "source": [
        "# Определяем значение производной\n",
        "def derivative(x, y):\n",
        "    return (2 * y**2 * math.log(x) - y) / x\n",
        "\n",
        "# Метод Рунге-Кутта для одного шага\n",
        "def runge_kutta_step(h, x, y):\n",
        "    F1 = derivative(x, y)\n",
        "    F2 = derivative(x + h / 2, y + h / 2 * F1)\n",
        "    F3 = derivative(x + h / 2, y + h / 2 * F2)\n",
        "    x += h\n",
        "    F4 = derivative(x, y + h * F3)\n",
        "    y += h / 6 * (F1 + 2 * F2 + 2 * F3 + F4)\n",
        "    return x, y\n",
        "\n",
        "# Вычисляем оптимальный шаг интегрирования\n",
        "def optimal_step(x0, y0, h, e, a, b):\n",
        "    x1, y1 = runge_kutta_step(h, x0, y0)\n",
        "    y2 = runge_kutta_step(h, x1, y1)[1]\n",
        "    y2_half = runge_kutta_step(2 * h, x0, y0)[1]\n",
        "\n",
        "    # Подбор шага\n",
        "    while abs(y2 - y2_half) / 15 > e:\n",
        "        h /= 2\n",
        "        x1, y1 = runge_kutta_step(h, x0, y0)\n",
        "        y2 = runge_kutta_step(h, x1, y1)[1]\n",
        "        y2_half = runge_kutta_step(2 * h, x0, y0)[1]\n",
        "\n",
        "    while abs(y2 - y2_half) / 15 < e:\n",
        "        h *= 2\n",
        "        x1, y1 = runge_kutta_step(h, x0, y0)\n",
        "        y2 = runge_kutta_step(h, x1, y1)[1]\n",
        "        y2_half = runge_kutta_step(2 * h, x0, y0)[1]\n",
        "\n",
        "    # Вычисление количества шагов\n",
        "    n = int((b - a) / h)\n",
        "    if n % 2 == 1:\n",
        "        n += 1\n",
        "    h = (b - a) / n\n",
        "\n",
        "    # Финальная проверка шага\n",
        "    x1, y1 = runge_kutta_step(h, x0, y0)\n",
        "    y2 = runge_kutta_step(h, x1, y1)[1]\n",
        "    y2_half = runge_kutta_step(2 * h, x0, y0)[1]\n",
        "    while abs(y2 - y2_half) / 15 > e:\n",
        "        n += 2\n",
        "        h = (b - a) / n\n",
        "        x1, y1 = runge_kutta_step(h, x0, y0)\n",
        "        y2 = runge_kutta_step(h, x1, y1)[1]\n",
        "        y2_half = runge_kutta_step(2 * h, x0, y0)[1]\n",
        "\n",
        "    return h\n",
        "\n",
        "x0 = 1\n",
        "y0 = 0.5\n",
        "a = 1\n",
        "b = 5\n",
        "e = 0.00001\n",
        "h0 = 0.1\n",
        "h = optimal_step(x0, y0, h0, e, a, b)\n",
        "\n",
        "print(\"Оптимальный шаг интегрирования:\", h)"
      ],
      "metadata": {
        "colab": {
          "base_uri": "https://localhost:8080/"
        },
        "id": "AQ924IlIOoT7",
        "outputId": "1c929bee-0052-49de-cc4e-f5b3c7afbb2b"
      },
      "execution_count": null,
      "outputs": [
        {
          "output_type": "stream",
          "name": "stdout",
          "text": [
            "Оптимальный шаг интегрирования: 0.25\n"
          ]
        }
      ]
    },
    {
      "cell_type": "markdown",
      "source": [
        "### № 2\n",
        "Найти решение задачи Коши на отрезке [a, b] методом Рунге-Кутта (IV) с\n",
        "точностью до 10(-4)"
      ],
      "metadata": {
        "id": "XmHCs18yO4jY"
      }
    },
    {
      "cell_type": "code",
      "source": [
        "def runge_kutta(a, b, y0, h):\n",
        "  x_args = [a]\n",
        "  y_run = [y0]\n",
        "  x = a\n",
        "  y = y0\n",
        "  while (abs(x - b) > 0.0001):\n",
        "    x, y = runge_kutta_step(h, x, y)\n",
        "    x_args.append(x)\n",
        "    y_run.append(y)\n",
        "  return x_args, y_run\n",
        "\n",
        "x_args, y_run = runge_kutta(a, b, y0, h)\n",
        "y_tilda = runge_kutta(a, b, y0, 2 * h)[1]\n",
        "\n",
        "delta = []\n",
        "for i in range(0, len(y_run), 2):\n",
        "  delta.append(abs(y_run[i] - y_tilda[i // 2]) / 15)\n",
        "\n",
        "x_args_table = ['{:.5f}'.format(value) for value in x_args]\n",
        "y_run_table = ['{:.5f}'.format(value) for value in y_run]\n",
        "y_tilda = ['{:.5f}'.format(value) for value in y_tilda]\n",
        "delta = ['{:.5f}'.format(value) for value in delta]\n",
        "for i in range(1, len(y_run), 2):\n",
        "  y_tilda.insert(i, '')\n",
        "  delta.insert(i, '')\n",
        "\n",
        "table = PrettyTable()\n",
        "table.add_column('x', x_args_table)\n",
        "table.add_column('y', y_run_table)\n",
        "table.add_column('y_tilda', y_tilda)\n",
        "table.add_column('delta', delta)\n",
        "print(table)"
      ],
      "metadata": {
        "colab": {
          "base_uri": "https://localhost:8080/"
        },
        "id": "V_ch3RoWTkEK",
        "outputId": "bdf58c68-5c40-4e63-c4fe-91e95ac6ccf4"
      },
      "execution_count": null,
      "outputs": [
        {
          "output_type": "stream",
          "name": "stdout",
          "text": [
            "+---------+---------+---------+---------+\n",
            "|    x    |    y    | y_tilda |  delta  |\n",
            "+---------+---------+---------+---------+\n",
            "| 1.00000 | 0.50000 | 0.50000 | 0.00000 |\n",
            "| 1.25000 | 0.40877 |         |         |\n",
            "| 1.50000 | 0.35574 | 0.35561 | 0.00001 |\n",
            "| 1.75000 | 0.32058 |         |         |\n",
            "| 2.00000 | 0.29530 | 0.29516 | 0.00001 |\n",
            "| 2.25000 | 0.27609 |         |         |\n",
            "| 2.50000 | 0.26091 | 0.26078 | 0.00001 |\n",
            "| 2.75000 | 0.24855 |         |         |\n",
            "| 3.00000 | 0.23824 | 0.23811 | 0.00001 |\n",
            "| 3.25000 | 0.22949 |         |         |\n",
            "| 3.50000 | 0.22194 | 0.22180 | 0.00001 |\n",
            "| 3.75000 | 0.21534 |         |         |\n",
            "| 4.00000 | 0.20952 | 0.20938 | 0.00001 |\n",
            "| 4.25000 | 0.20433 |         |         |\n",
            "| 4.50000 | 0.19966 | 0.19952 | 0.00001 |\n",
            "| 4.75000 | 0.19544 |         |         |\n",
            "| 5.00000 | 0.19160 | 0.19146 | 0.00001 |\n",
            "+---------+---------+---------+---------+\n"
          ]
        }
      ]
    },
    {
      "cell_type": "markdown",
      "source": [
        "### № 3\n",
        "Найти решение задачи Коши на отрезке [a, b] методом Эйлера"
      ],
      "metadata": {
        "id": "c9oTqB1MfInV"
      }
    },
    {
      "cell_type": "code",
      "source": [
        "x = a\n",
        "y = y0\n",
        "y_euler = [y0]\n",
        "while (abs(x - b) > 0.0001):\n",
        "  y += derivative(x, y) * h\n",
        "  x += h\n",
        "  y_euler.append(y)"
      ],
      "metadata": {
        "id": "FD6UR8kdeFVy"
      },
      "execution_count": null,
      "outputs": []
    },
    {
      "cell_type": "markdown",
      "source": [
        "### № 4\n",
        "Найти решение задачи Коши с помощью функций Python"
      ],
      "metadata": {
        "id": "tYjmtHCXgEKH"
      }
    },
    {
      "cell_type": "code",
      "source": [
        "def func(y, x):\n",
        "    return (2 * y**2 * math.log(x) - y) / x\n",
        "y_py = odeint(func, y0, x_args).flatten()"
      ],
      "metadata": {
        "id": "BzE7qdLAeHFa"
      },
      "execution_count": null,
      "outputs": []
    },
    {
      "cell_type": "markdown",
      "source": [
        "### Таблица с результатами численных методов и питона"
      ],
      "metadata": {
        "id": "l-Ek4x39ip9X"
      }
    },
    {
      "cell_type": "code",
      "source": [
        "y_euler_table = ['{:.5f}'.format(value) for value in y_euler]\n",
        "y_py_table = ['{:.5f}'.format(value) for value in y_py]\n",
        "\n",
        "table = PrettyTable()\n",
        "table.add_column('x', x_args_table)\n",
        "table.add_column('Runge Kutta', y_run_table)\n",
        "table.add_column('Euler', y_euler_table)\n",
        "table.add_column('Python', y_py_table)\n",
        "print(table)"
      ],
      "metadata": {
        "colab": {
          "base_uri": "https://localhost:8080/"
        },
        "id": "AadWZ-rweIfJ",
        "outputId": "efdfcce9-0088-4dcf-d596-9bea6193f36d"
      },
      "execution_count": null,
      "outputs": [
        {
          "output_type": "stream",
          "name": "stdout",
          "text": [
            "+---------+-------------+---------+---------+\n",
            "|    x    | Runge Kutta |  Euler  |  Python |\n",
            "+---------+-------------+---------+---------+\n",
            "| 1.00000 |   0.50000   | 0.50000 | 0.50000 |\n",
            "| 1.25000 |   0.40877   | 0.37500 | 0.40878 |\n",
            "| 1.50000 |   0.35574   | 0.31255 | 0.35575 |\n",
            "| 1.75000 |   0.32058   | 0.27366 | 0.32059 |\n",
            "| 2.00000 |   0.29530   | 0.24654 | 0.29531 |\n",
            "| 2.25000 |   0.27609   | 0.22626 | 0.27610 |\n",
            "| 2.50000 |   0.26091   | 0.21034 | 0.26092 |\n",
            "| 2.75000 |   0.24855   | 0.19742 | 0.24856 |\n",
            "| 3.00000 |   0.23824   | 0.18664 | 0.23825 |\n",
            "| 3.25000 |   0.22949   | 0.17746 | 0.22950 |\n",
            "| 3.50000 |   0.22194   | 0.16952 | 0.22195 |\n",
            "| 3.75000 |   0.21534   | 0.16256 | 0.21535 |\n",
            "| 4.00000 |   0.20952   | 0.15638 | 0.20953 |\n",
            "| 4.25000 |   0.20433   | 0.15084 | 0.20434 |\n",
            "| 4.50000 |   0.19966   | 0.14584 | 0.19967 |\n",
            "| 4.75000 |   0.19544   | 0.14129 | 0.19545 |\n",
            "| 5.00000 |   0.19160   | 0.13713 | 0.19161 |\n",
            "+---------+-------------+---------+---------+\n"
          ]
        }
      ]
    },
    {
      "cell_type": "markdown",
      "source": [
        "### № 5\n",
        "Найти точное решение задачи Коши"
      ],
      "metadata": {
        "id": "BYbyOKLLlTJb"
      }
    },
    {
      "cell_type": "markdown",
      "source": [
        "---\n",
        "$$\n",
        "xy'+y=2\\,\\ln\\left(x\\right)\\,{y}^{2}\n",
        "$$\n",
        "\n",
        "Делим обе части уравнения на $x$:\n",
        "$$y'+\\dfrac{y}{x}=\\dfrac{2\\,\\ln\\left(x\\right)\\,{y}^{2}}{x}$$\n",
        "\n",
        "Делим обе части уравнения на $y^2$:\n",
        "$$\\dfrac{y'}{{y}^{2}}+\\dfrac{1}{x\\,y}=\\dfrac{2\\,\\ln\\left(x\\right)}{x}$$\n",
        "\n",
        "Подстановка:\n",
        "$$\n",
        "\\left| u = \\frac {1}{y} => u' = -\\frac {y'}{y^2} \\right|\n",
        "\\left| y = \\frac {1}{u} => y' = -u'y^2 \\right|\n",
        "$$\n",
        "\n",
        "Подставляем и делим на -1:\n",
        "$$u'-\\dfrac{u}{x}=-\\dfrac{2\\,\\ln\\left(x\\right)}{x}$$\n",
        "\n",
        "Подстановка:\n",
        "$$\n",
        "\\left| u = tv => u' = tv' + t'v \\right|\n",
        "$$\n",
        "\n",
        "$$t\\,v'+t'\\,v-\\dfrac{t\\,v}{x}=-\\dfrac{2\\,\\ln\\left(x\\right)}{x}$$\n",
        "\n",
        "Сгруппируем:\n",
        "$$t\\,v'+v\\,\\left({t'-\\dfrac{t}{x}}\\right)=-\\dfrac{2\\,\\ln\\left(x\\right)}{x}$$\n",
        "\n",
        "Вычислим первое уравнение:\n",
        "$$t'-\\dfrac{t}{x}=0$$\n",
        "\n",
        "$$t'=\\dfrac{t}{x}$$\n",
        "\n",
        "$$\\dfrac{\\mathrm{d}t}{\\mathrm{d}x}=\\dfrac{t}{x}$$\n",
        "\n",
        "$$\\dfrac{\\mathrm{d}t}{t}=\\dfrac{\\mathrm{d}x}{x}$$\n",
        "\n",
        "$$\\int{\\dfrac{1}{t}}{\\;\\mathrm{d}t}=\\int{\\dfrac{1}{x}}{\\;\\mathrm{d}x}$$\n",
        "\n",
        "$$\\ln\\left(t\\right)=\\ln\\left(x\\right)$$\n",
        "\n",
        "$$t=x$$\n",
        "\n",
        "Вычислим второе уравнение:\n",
        "$$v'\\,{t}+v\\,{\\left(t'-\\dfrac{t}{x}\\right)}=-\\dfrac{2\\,\\ln\\left(x\\right)}{x}$$\n",
        "при ${t}=x$ и ${\\left(t'-\\dfrac{t}{x}\\right)}=0$\n",
        "\n",
        "$$v'\\,x=-\\dfrac{2\\,\\ln\\left(x\\right)}{x}$$\n",
        "\n",
        "Делим обе части на $x$:\n",
        "$$v'=-\\dfrac{2\\,\\ln\\left(x\\right)}{{x}^{2}}$$\n",
        "\n",
        "$$\\dfrac{\\mathrm{d}v}{\\mathrm{d}x}=-\\dfrac{2\\,\\ln\\left(x\\right)}{{x}^{2}}$$\n",
        "\n",
        "Умножаем обе части на $dx$:\n",
        "$$\\mathrm{d}v=-\\dfrac{2\\,\\ln\\left(x\\right)\\,\\mathrm{d}x}{{x}^{2}}$$\n",
        "\n",
        "$$\\int{1}{\\;\\mathrm{d}v}=\\int{-\\dfrac{2\\,\\ln\\left(x\\right)}{{x}^{2}}}{\\;\\mathrm{d}x}$$\n",
        "\n",
        "$$v=\\dfrac{2\\,\\ln\\left(x\\right)}{x}+\\dfrac{2}{x}+C(x)$$\n",
        "\n",
        "Обратная замена $v= \\frac{u}{t}$, $t=x$:\n",
        "$$u=2\\,\\ln\\left(x\\right)+2+C(x)$$\n",
        "\n",
        "Обратная замена $u=\\frac{1}{y}$:\n",
        "$$\\dfrac{1}{y}=2\\,\\ln\\left(x\\right)+2+C(x)$$\n",
        "\n",
        "$$y=\\dfrac{1}{2\\,\\ln\\left(x\\right)+2+C(x)}$$\n",
        "\n",
        "Найдем C:\n",
        "$$ y(1) = \\frac{1}{2} => C=0$$\n",
        "\n",
        "Решение уравнения:\n",
        "$$y=\\dfrac{1}{2\\,\\ln\\left(x\\right)+2}$$"
      ],
      "metadata": {
        "id": "qwwk1ZAXlX9L"
      }
    },
    {
      "cell_type": "code",
      "source": [
        "def real(x):\n",
        "  return 1 / (2 * np.log(x) + 2)\n",
        "\n",
        "y_real = real(x_args);\n",
        "y_real_table = ['{:.5f}'.format(value) for value in y_real]\n",
        "\n",
        "table = PrettyTable()\n",
        "table.add_column('x', x_args_table)\n",
        "table.add_column('y_real', y_real_table)\n",
        "print(table)"
      ],
      "metadata": {
        "colab": {
          "base_uri": "https://localhost:8080/"
        },
        "id": "lDXHtjiIBCeR",
        "outputId": "29e2c46b-3014-4f03-f3bf-364b11ff27e3"
      },
      "execution_count": null,
      "outputs": [
        {
          "output_type": "stream",
          "name": "stdout",
          "text": [
            "+---------+---------+\n",
            "|    x    |  y_real |\n",
            "+---------+---------+\n",
            "| 1.00000 | 0.50000 |\n",
            "| 1.25000 | 0.40878 |\n",
            "| 1.50000 | 0.35575 |\n",
            "| 1.75000 | 0.32059 |\n",
            "| 2.00000 | 0.29531 |\n",
            "| 2.25000 | 0.27610 |\n",
            "| 2.50000 | 0.26092 |\n",
            "| 2.75000 | 0.24856 |\n",
            "| 3.00000 | 0.23825 |\n",
            "| 3.25000 | 0.22950 |\n",
            "| 3.50000 | 0.22195 |\n",
            "| 3.75000 | 0.21535 |\n",
            "| 4.00000 | 0.20953 |\n",
            "| 4.25000 | 0.20434 |\n",
            "| 4.50000 | 0.19967 |\n",
            "| 4.75000 | 0.19545 |\n",
            "| 5.00000 | 0.19161 |\n",
            "+---------+---------+\n"
          ]
        }
      ]
    },
    {
      "cell_type": "markdown",
      "source": [
        "### Интегральные кривые всех вычислений"
      ],
      "metadata": {
        "id": "ujujlQlci-Ow"
      }
    },
    {
      "cell_type": "code",
      "source": [
        "plt.plot(x_args, y_run, label='Runge Kutta', color='green')\n",
        "plt.scatter(x_args, y_run, color='green')\n",
        "plt.plot(x_args, y_euler, label='Euler', color='red')\n",
        "plt.plot(x_args, y_py, label='Python', color='blue')\n",
        "plt.plot(x_args, y_real, label='Real', color='yellow')\n",
        "\n",
        "plt.xlabel('x')\n",
        "plt.ylabel('y')\n",
        "plt.legend()\n",
        "plt.grid()\n",
        "plt.show()"
      ],
      "metadata": {
        "colab": {
          "base_uri": "https://localhost:8080/",
          "height": 449
        },
        "id": "YsjQsQwxjEI9",
        "outputId": "128a3d87-0b7b-4927-b8e8-655cfecc681a"
      },
      "execution_count": null,
      "outputs": [
        {
          "output_type": "display_data",
          "data": {
            "text/plain": [
              "<Figure size 640x480 with 1 Axes>"
            ],
            "image/png": "[encoded data removed]"
          },
          "metadata": {}
        }
      ]
    },
    {
      "cell_type": "markdown",
      "source": [
        "### № 6\n",
        "Найти максимум модуля отклонений в узловых точках приближенного решения от точного"
      ],
      "metadata": {
        "id": "KBELoYGX-s1I"
      }
    },
    {
      "cell_type": "code",
      "source": [
        "max_runge_kutta, max_euler = 0,0\n",
        "\n",
        "for i in range (len(x_args)):\n",
        "  if(abs(real(x_args[i]) - y_run[i]) > max_runge_kutta):\n",
        "     max_runge_kutta = abs(real(x_args[i]) - y_run[i])\n",
        "\n",
        "  if(abs(real(x_args[i]) - y_euler[i]) > max_euler):\n",
        "    max_euler = abs(real(x_args[i]) - y_euler[i])\n",
        "\n",
        "print(max_runge_kutta, max_euler)"
      ],
      "metadata": {
        "colab": {
          "base_uri": "https://localhost:8080/"
        },
        "id": "g70LP_JR-xZo",
        "outputId": "861fae1b-a929-4408-8adc-a9e34dcb2b77"
      },
      "execution_count": null,
      "outputs": [
        {
          "output_type": "stream",
          "name": "stdout",
          "text": [
            "1.3163180450720402e-05 0.05448071844299657\n"
          ]
        }
      ]
    }
  ]
}