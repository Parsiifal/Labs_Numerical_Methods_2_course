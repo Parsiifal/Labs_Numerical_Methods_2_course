{
  "nbformat": 4,
  "nbformat_minor": 0,
  "metadata": {
    "colab": {
      "provenance": []
    },
    "kernelspec": {
      "name": "python3",
      "display_name": "Python 3"
    },
    "language_info": {
      "name": "python"
    }
  },
  "cells": [
    {
      "cell_type": "markdown",
      "source": [
        "# Лабораторная работа № 2\n",
        "# Инкин Артем 6206-010302D\n",
        "# Вариант 4"
      ],
      "metadata": {
        "id": "s6-ORy8kDhtH"
      }
    },
    {
      "cell_type": "code",
      "source": [
        "import numpy as np\n",
        "import random\n",
        "import matplotlib.pyplot as plt\n",
        "import pandas as pd"
      ],
      "metadata": {
        "id": "H4OGzNjxD_I-"
      },
      "execution_count": null,
      "outputs": []
    },
    {
      "cell_type": "markdown",
      "source": [
        "### 1. Создать квадратную матрицу из случайных вещественных чисел размера 10 . Найти скалярное произведение 2 строки на 7 столбец. Использовать срезы матриц."
      ],
      "metadata": {
        "id": "dMcaTIbNDnYL"
      }
    },
    {
      "cell_type": "code",
      "source": [
        "matrix = np.random.rand(10, 10)\n",
        "row2 = matrix[1, :]\n",
        "col7 = matrix[:, 6]\n",
        "result = np.dot(row2, col7)\n",
        "print(result)"
      ],
      "metadata": {
        "colab": {
          "base_uri": "https://localhost:8080/"
        },
        "id": "y_08WoZ9EFmp",
        "outputId": "5c4d53dd-f745-4089-8c5b-f12f2b3dc92c"
      },
      "execution_count": null,
      "outputs": [
        {
          "output_type": "stream",
          "name": "stdout",
          "text": [
            "2.8072835382248984\n"
          ]
        }
      ]
    },
    {
      "cell_type": "markdown",
      "source": [
        "### 2. Создать вектор-строку 1x10 из случайных целых чисел. Вычислить норму ||x||4 самостоятельно написанной функцией и проверить результат с помощью linalg.norm() в Python."
      ],
      "metadata": {
        "id": "hO31GkcWFbes"
      }
    },
    {
      "cell_type": "code",
      "source": [
        "vector = []\n",
        "for _ in range(10):\n",
        "    vector.append(random.randint(1, 100))\n",
        "\n",
        "def norm(vector):\n",
        "    return np.sum(np.abs(vector)**4)**(0.25)\n",
        "\n",
        "my_norm = norm(vector)\n",
        "norm_linalg = np.linalg.norm(vector, ord=4)\n",
        "print(\"Норма собственной функцией: \", my_norm)\n",
        "print(\"Норма с помощью linalg: \", norm_linalg)"
      ],
      "metadata": {
        "colab": {
          "base_uri": "https://localhost:8080/"
        },
        "id": "F3f16-q_Fs8E",
        "outputId": "2ed5ed88-e9e4-4706-e845-65f40bf87be3"
      },
      "execution_count": null,
      "outputs": [
        {
          "output_type": "stream",
          "name": "stdout",
          "text": [
            "Норма собственной функцией:  125.48071842499844\n",
            "Норма с помощью linalg:  125.48071842499844\n"
          ]
        }
      ]
    },
    {
      "cell_type": "markdown",
      "source": [
        "### 3. Создать матрицу из случайных целых чисел. Найти норму матрицы ||A|| бесконечность с помощью самостоятельно написанного алгоритма, проверить результат с помощью linalg.norm() в Python.\n"
      ],
      "metadata": {
        "id": "_mTYNWqlGFnM"
      }
    },
    {
      "cell_type": "code",
      "source": [
        "matrix = []\n",
        "for _ in range(3):\n",
        "    row = []\n",
        "    for _ in range(3):\n",
        "        row.append(random.randint(1, 100))\n",
        "    matrix.append(row)\n",
        "\n",
        "def matr_norm(matr):\n",
        "    max_row_sum = 0.0\n",
        "    for row in matrix:\n",
        "        row_sum = sum(np.abs(row))\n",
        "        if row_sum > max_row_sum:\n",
        "            max_row_sum = row_sum\n",
        "    return max_row_sum\n",
        "\n",
        "my_matr_norm = matr_norm(matrix)\n",
        "norm_linalg = np.linalg.norm(matrix, np.inf)\n",
        "print(\"Норма собственной функцией: \", my_matr_norm)\n",
        "print(\"Норма с помощью linalg: \", norm_linalg)"
      ],
      "metadata": {
        "colab": {
          "base_uri": "https://localhost:8080/"
        },
        "id": "Q47AaEXHGR2n",
        "outputId": "9717a9c2-2dcb-40ef-da2a-d53c0bd0a656"
      },
      "execution_count": null,
      "outputs": [
        {
          "output_type": "stream",
          "name": "stdout",
          "text": [
            "Норма собственной функцией:  207\n",
            "Норма с помощью linalg:  207.0\n"
          ]
        }
      ]
    },
    {
      "cell_type": "markdown",
      "source": [
        "### 4. Найти псевдорешение системы\n",
        "\\begin{cases}\n",
        "3.3x_1 + 2.1x_2 + 2.8x_3 = 0.8 \\\\\n",
        "4.1x_1 + 3.7x_2 + 4.8x_3 = 5.7 \\\\\n",
        "2.7x_1 + 1.8x_2 + 1.1x_3 = 3.2 \\\\\n",
        "3.15x_1 - 1.72x_2 - 1.23x_3 = 2.15 \\\\\n",
        "\\end{cases}"
      ],
      "metadata": {
        "id": "obOWOGJbZKBz"
      }
    },
    {
      "cell_type": "code",
      "source": [
        "a = [[3.3, 2.1, 2.8],\n",
        "     [4.1, 3.7, 4.8],\n",
        "     [2.7, 1.8, 1.1],\n",
        "     [3.15, -1.72, -1.23]]\n",
        "b = [[0.8],\n",
        "     [5.7],\n",
        "     [3.2],\n",
        "     [2.15]]\n",
        "\n",
        "def transpose(matrix):\n",
        "    return list(map(list, zip(*matrix)))\n",
        "\n",
        "def matrix_multiply(A, B):\n",
        "    result = [[0 for _ in range(len(B[0]))] for _ in range(len(A))]\n",
        "    for i in range(len(A)): # перебираем строки\n",
        "        for j in range(len(B[0])): # перебираем стобцы\n",
        "            for k in range(len(B)): # скалярное произведение строки на столбец\n",
        "                result[i][j] += A[i][k] * B[k][j]\n",
        "    return result\n",
        "\n",
        "def inverse(matrix):\n",
        "    return np.linalg.inv(matrix).tolist()\n",
        "\n",
        "def pseudoinverse(a, b):\n",
        "    a_transposed = transpose(a)\n",
        "    aTa = matrix_multiply(a_transposed, a) # Умножение a^T на a\n",
        "    aTa_inv = inverse(aTa) # Вычисление обратной матрицы для (A^T * A)^-1\n",
        "    aTb = matrix_multiply(a_transposed, b) # Умножение A^T на b\n",
        "    X = matrix_multiply(aTa_inv, aTb) # Вычисление псевдорешения\n",
        "    return X\n",
        "\n",
        "result = pseudoinverse(a, b)\n",
        "result_linalg = np.linalg.pinv(a).dot(b)\n",
        "print(\"Псевдорешение собственным методом:\", result)\n",
        "print(\"Псевдорешение через linalg:\", result_linalg)"
      ],
      "metadata": {
        "colab": {
          "base_uri": "https://localhost:8080/"
        },
        "id": "jjYFCBVFZyPA",
        "outputId": "d858b3d1-8397-457c-b1a7-95667c521d49"
      },
      "execution_count": null,
      "outputs": [
        {
          "output_type": "stream",
          "name": "stdout",
          "text": [
            "Псевдорешение собственным методом: [[0.7914789513519094], [0.661408517068363], [-0.2988652951858555]]\n",
            "Псевдорешение через linalg: [[ 0.79147895]\n",
            " [ 0.66140852]\n",
            " [-0.2988653 ]]\n"
          ]
        }
      ]
    },
    {
      "cell_type": "markdown",
      "source": [
        "### 5. Даны пять точек (-4; 7), (-2; 1), (0; -3), (4, -8), (6, -9). Найти уравнение наиболее выгодной траектории. Построить график."
      ],
      "metadata": {
        "id": "_XyVq95jeyI0"
      }
    },
    {
      "cell_type": "code",
      "source": [
        "A = [[-4, 1], [-2, 1], [0, 1], [4, 1], [6, 1]]\n",
        "B = [[7], [1], [-3], [-8], [-9]]\n",
        "\n",
        "def transpose(matrix):\n",
        "    return list(map(list, zip(*matrix)))\n",
        "\n",
        "def matrix_multiply(A, B):\n",
        "    result = [[0 for _ in range(len(B[0]))] for _ in range(len(A))]\n",
        "    for i in range(len(A)): # перебираем строки\n",
        "        for j in range(len(B[0])): # перебираем стобцы\n",
        "            for k in range(len(B)): # скалярное произведение строки на столбец\n",
        "                result[i][j] += A[i][k] * B[k][j]\n",
        "    return result\n",
        "\n",
        "def inverse(matrix):\n",
        "    return np.linalg.inv(matrix).tolist()\n",
        "\n",
        "def pseudoinverse(a, b):\n",
        "    a_transposed = transpose(a)\n",
        "    aTa = matrix_multiply(a_transposed, a) # Умножение a^T на a\n",
        "    aTa_inv = inverse(aTa) # Вычисление обратной матрицы для (A^T * A)^-1\n",
        "    X = matrix_multiply(aTa_inv, a_transposed) # Вычисление (A^T * A)^-1 * A^T\n",
        "    X = matrix_multiply(X, b) # Вычисление (A^T * A)^-1 * A^T * B\n",
        "    return X\n",
        "\n",
        "result = pseudoinverse(A, B)\n",
        "\n",
        "# Точки для отрисовки на графике\n",
        "points = [(-4, 7), (-2, 1), (0, -3), (4, -8), (6, -9)]\n",
        "x = [point[0] for point in points]\n",
        "y = [point[1] for point in points]\n",
        "\n",
        "# Создаем уравнение прямой на основе коэффициентов a и b\n",
        "a = result[0][0]\n",
        "b = result[1][0]\n",
        "line_x = range(min(x), max(x) + 1) # создаем диапазон по х\n",
        "line_y = [a * xi + b for xi in line_x] # вычисляем y для каждого х\n",
        "\n",
        "# Построение графика\n",
        "plt.plot(x, y, 'bo', label='Исходные точки')\n",
        "plt.plot(line_x, line_y, 'r-', label='Прямая y=ax+b')\n",
        "plt.xlabel('x')\n",
        "plt.ylabel('y')\n",
        "plt.title('График исходных точек и уравнения прямой')\n",
        "plt.legend()\n",
        "plt.grid(True)\n",
        "plt.show()"
      ],
      "metadata": {
        "colab": {
          "base_uri": "https://localhost:8080/",
          "height": 472
        },
        "id": "4Mqwyzcye8K0",
        "outputId": "5aa8391b-cfc0-4591-bfe4-7cef6205f020"
      },
      "execution_count": null,
      "outputs": [
        {
          "output_type": "display_data",
          "data": {
            "text/plain": [
              "<Figure size 640x480 with 1 Axes>"
            ],
            "image/png": "[encoded data removed]"
          },
          "metadata": {}
        }
      ]
    },
    {
      "cell_type": "markdown",
      "source": [
        "### 6. Решить систему, используя LU разложение матрицы. LU разложение должно быть найдено самостоятельно написанной функцией, полученные матрицы выведены на экран. Придерживаться плана решения, приведенного в пособии! Решение системы должно быть проверено встроенной функцией Python.\n",
        "\n",
        "\\begin{cases}\n",
        "3.8x_1 + 14.2x_2 + 6.3x_3 - 15.5x_4 = 2.8 \\\\\n",
        "8.3x_1 - 6.6x_2 + 5.8x_3 + 12.2x_4 = -4.7 \\\\\n",
        "6.4x_1 - 8.5x_2 - 4.3x_3 + 8.8x_4 = 7.7 \\\\\n",
        "17.1x_1 - 8.3x_2 + 14.4x_3 - 7.2x_4 = 13.5 \\\\\n",
        "\\end{cases}"
      ],
      "metadata": {
        "id": "B22MSESognug"
      }
    },
    {
      "cell_type": "code",
      "source": [
        "A = np.array([[3.8, 14.2, 6.3, -15.5],\n",
        "              [8.3, -6.6, 5.8, 12.2],\n",
        "              [6.4, -8.5, -4.3, 8.8],\n",
        "              [17.1, -8.3, 14.4, -7.2]])\n",
        "b = np.array([2.8, -4.7, 7.7, 13.5])\n",
        "\n",
        "def LU_decomposition(A):\n",
        "    n = len(A)\n",
        "    L = np.zeros((n, n))\n",
        "    U = np.zeros((n, n))\n",
        "\n",
        "    for i in range(4):\n",
        "        for j in range(4):\n",
        "            if i <=j:\n",
        "                U[i,j] = A[i, j] - np.dot(L[i, :i], U[:i, j])\n",
        "            if i > j:\n",
        "                L[i,j] = (A[i, j] - np.dot(L[i, :j], U[:j, j]))/U[j, j]\n",
        "\n",
        "    print(\"Матрица L:\")\n",
        "    for row in L:\n",
        "        print(row)\n",
        "    print(\"\\nМатрица U:\")\n",
        "    for row in U:\n",
        "        print(row)\n",
        "    return L, U\n",
        "\n",
        "# Решаем систему Ly = b, где UX = y, прямой подстановкой\n",
        "def direct_substitution(L, B):\n",
        "    n = len(L)\n",
        "    Y = [0] * n # создаем пустой вектор\n",
        "    for i in range(n):\n",
        "        Y[i] = B[i]\n",
        "        for j in range(i): # перебираем все элементы в текущей строке матрицы L до i-того\n",
        "            Y[i] -= L[i][j] * Y[j]\n",
        "    print(\"\\nВектор Y: \", Y)\n",
        "    return Y\n",
        "\n",
        "# Решаем систему UX = y обратной подстановкой\n",
        "def back_substitution(U, Y):\n",
        "    n = len(U)\n",
        "    X = [0] * n # создаем пустой вектор\n",
        "    for i in range(n - 1, -1, -1): # идем от последнего уравнения к первому\n",
        "        X[i] = Y[i]\n",
        "        for j in range(i + 1, n):\n",
        "            X[i] -= U[i][j] * X[j]\n",
        "        X[i] /= U[i][i]\n",
        "    return X\n",
        "\n",
        "L, U = LU_decomposition(A)\n",
        "Y = direct_substitution(L, b)\n",
        "result = back_substitution(U, Y)\n",
        "print(\"\\nРешение системы: \", result)\n",
        "linalg_result = np.linalg.solve(A, b)\n",
        "print(\"\\nРешение системы с помощью linalg: \", linalg_result)"
      ],
      "metadata": {
        "colab": {
          "base_uri": "https://localhost:8080/"
        },
        "id": "Bz_Ovy0QhHG7",
        "outputId": "6f2acb6f-a0c1-4f20-957a-c71b95066176"
      },
      "execution_count": null,
      "outputs": [
        {
          "output_type": "stream",
          "name": "stdout",
          "text": [
            "Матрица L:\n",
            "[0. 0. 0. 0.]\n",
            "[2.18421053 0.         0.         0.        ]\n",
            "[1.68421053 0.86176018 0.         0.        ]\n",
            "[ 4.5         1.91940674 -0.1651443   0.        ]\n",
            "\n",
            "Матрица U:\n",
            "[  3.8  14.2   6.3 -15.5]\n",
            "[  0.         -37.61578947  -7.96052632  46.05526316]\n",
            "[ 0.          0.         -8.05046173 -4.78332867]\n",
            "[  0.           0.           0.         -26.63872219]\n",
            "\n",
            "Вектор Y:  [2.8, -10.815789473684212, 12.304827200223873, 23.69197137824326]\n",
            "\n",
            "Решение системы:  [0.9708633735253702, -0.5897575116053073, -1.0000203953429758, -0.8893809249070777]\n",
            "\n",
            "Решение системы с помощью linalg:  [ 0.97086337 -0.58975751 -1.0000204  -0.88938092]\n"
          ]
        }
      ]
    },
    {
      "cell_type": "markdown",
      "source": [
        "### 7. Решить систему с помощью QR разложения матрицы. QR разложение найти методом Хаусхолдера. Придерживаться плана решения, приведенного в пособии! Проверить полученное решение непосредственной подстановкой в исходную систему, а также методом np.solve.\n",
        "\n",
        "\\begin{cases}\n",
        "3.8x_1 + 14.2x_2 + 6.3x_3 - 15.5x_4 = 2.8 \\\\\n",
        "8.3x_1 - 6.6x_2 + 5.8x_3 + 12.2x_4 = -4.7 \\\\\n",
        "6.4x_1 - 8.5x_2 - 4.3x_3 + 8.8x_4 = 7.7 \\\\\n",
        "17.1x_1 - 8.3x_2 + 14.4x_3 - 7.2x_4 = 13.5 \\\\\n",
        "\\end{cases}"
      ],
      "metadata": {
        "id": "-kkweFKhzZEs"
      }
    },
    {
      "cell_type": "code",
      "source": [
        "A = np.array([[3.8, 14.2, 6.3, -15.5],\n",
        "              [8.3, -6.6, 5.8, 12.2],\n",
        "              [6.4, -8.5, -4.3, 8.8],\n",
        "              [17.1, -8.3, 14.4, -7.2]])\n",
        "b = np.array([2.8, -4.7, 7.7, 13.5])\n",
        "\n",
        "def householder_reflection(A):\n",
        "    (r, c) = np.shape(A)\n",
        "    Q = np.identity(r)\n",
        "    R = np.copy(A)\n",
        "    for cnt in range(r - 1):\n",
        "        x = R[cnt:, cnt]\n",
        "        e = np.zeros_like(x)\n",
        "        e[0] = np.linalg.norm(x)\n",
        "        u = x - e\n",
        "        v = u / np.linalg.norm(u)\n",
        "        Q_cnt = np.identity(r)\n",
        "        Q_cnt[cnt:, cnt:] -= 2.0 * np.outer(v, v)\n",
        "        R = np.dot(Q_cnt, R)  # R = H(n-1)**H(2)*H(1)*A\n",
        "        Q = np.dot(Q, Q_cnt)  # Q = H (N-1) * … * H (2) * H (1) H - матрица\n",
        "\n",
        "    print(\"Матрица Q:\")\n",
        "    for row in Q:\n",
        "        print(row)\n",
        "    print(\"\\nМатрица R:\")\n",
        "    print(np.around(R, decimals=2))\n",
        "    return (Q, R)\n",
        "\n",
        "Q, R = householder_reflection(A)\n",
        "\n",
        "# Проверка QR разложения умножением\n",
        "A_reconstructed = np.dot(Q, R)\n",
        "print(\"\\nПроверка умножением:\")\n",
        "print(A_reconstructed)\n",
        "\n",
        "# Проверка QR разложения с использованием библиотечной функции\n",
        "Q_lib, R_lib = np.linalg.qr(A)\n",
        "print(\"\\nПроверка с использованием библиотечной функции:\")\n",
        "print(\"Q_lib:\")\n",
        "print(Q_lib)\n",
        "print(\"\\nR_lib:\")\n",
        "print(R_lib)\n",
        "\n",
        "def solve_Qy(Q, b):\n",
        "    QT = np.transpose(Q) # Транспонируем матрицу\n",
        "    # Решаем систему Qy = b, умножая вектор b на QT\n",
        "    y = np.dot(QT, b)\n",
        "    print(\"\\nВектор y: \", y)\n",
        "    return y\n",
        "\n",
        "def back_substitution(R, y):\n",
        "    n = len(y)\n",
        "    x = np.zeros(n)\n",
        "    for i in range(n - 1, -1, -1):\n",
        "        x[i] = y[i]\n",
        "        for j in range(i + 1, n):\n",
        "            x[i] -= R[i][j] * x[j]\n",
        "        x[i] /= R[i][i]\n",
        "    return x\n",
        "\n",
        "y = solve_Qy(Q, b) # Решаем систему Qy = b\n",
        "result = back_substitution(R, y) # Решаем систему RX = y методом обратной подстановки\n",
        "print(\"\\nРешение системы:\", result)\n",
        "linalg_result = np.linalg.solve(A, b)\n",
        "print(\"\\nРешение системы с помощью np.linalg.solve():\", linalg_result)"
      ],
      "metadata": {
        "colab": {
          "base_uri": "https://localhost:8080/"
        },
        "id": "tO183P0d4bgT",
        "outputId": "9b204a34-d7b6-4e20-998d-7da02a2c52a4"
      },
      "execution_count": null,
      "outputs": [
        {
          "output_type": "stream",
          "name": "stdout",
          "text": [
            "Матрица Q:\n",
            "[ 0.18615377  0.9345032  -0.27916706  0.11881202]\n",
            "[ 0.40659903 -0.15614632  0.12766535  0.89106516]\n",
            "[ 0.31352215 -0.31964383 -0.89131216 -0.0713745 ]\n",
            "[ 0.83769199 -0.01224428  0.33366142 -0.43219472]\n",
            "\n",
            "Матрица R:\n",
            "[[ 20.41  -9.66  14.25  -1.2 ]\n",
            " [ -0.    17.12   6.18 -19.11]\n",
            " [ -0.    -0.     7.62  -4.36]\n",
            " [  0.     0.     0.    11.51]]\n",
            "\n",
            "Проверка умножением:\n",
            "[[  3.8  14.2   6.3 -15.5]\n",
            " [  8.3  -6.6   5.8  12.2]\n",
            " [  6.4  -8.5  -4.3   8.8]\n",
            " [ 17.1  -8.3  14.4  -7.2]]\n",
            "\n",
            "Проверка с использованием библиотечной функции:\n",
            "Q_lib:\n",
            "[[-0.18615377  0.9345032  -0.27916706 -0.11881202]\n",
            " [-0.40659903 -0.15614632  0.12766535 -0.89106516]\n",
            " [-0.31352215 -0.31964383 -0.89131216  0.0713745 ]\n",
            " [-0.83769199 -0.01224428  0.33366142  0.43219472]]\n",
            "\n",
            "R_lib:\n",
            "[[-20.413231     9.65795175 -14.24566253   1.1972627 ]\n",
            " [  0.          17.11911119   6.17987231 -19.1144915 ]\n",
            " [  0.           0.           7.61907326  -4.36130245]\n",
            " [  0.           0.           0.         -11.51311503]]\n",
            "\n",
            "Вектор y:  [ 12.33317744   0.72394135  -3.74036944 -10.2395449 ]\n",
            "\n",
            "Решение системы: [ 0.97086337 -0.58975751 -1.0000204  -0.88938092]\n",
            "\n",
            "Решение системы с помощью np.linalg.solve(): [ 0.97086337 -0.58975751 -1.0000204  -0.88938092]\n"
          ]
        }
      ]
    },
    {
      "cell_type": "markdown",
      "source": [
        "### 8. Решить систему методом простых итераций с точностью до 10^(-3). Проверить выполнение достаточного условия сходимости. Если условие не выполняется, в программе выполнить эквивалентные преобразования системы, после этого привести к удобному для итераций виду. Оформить итерации в виде таблицы (можно пользоваться модулями PrettyTable или Pandas). Проверить полученное решение.\n",
        "\n",
        "\\begin{cases}\n",
        "7.3x_1 + 2.1x_2 + 2.8x_3 = 0.8 \\\\\n",
        "4.1x_1 + 8.7x_2 + 4.8x_3 = 5.7 \\\\\n",
        "2.7x_1 + 1.8x_2 + 9.1x_3 = 3.2 \\\\\n",
        "\\end{cases}"
      ],
      "metadata": {
        "id": "wxWkzPGOPkZf"
      }
    },
    {
      "cell_type": "code",
      "source": [
        "a = np.array([[7.3, 2.1, 2.8],\n",
        "              [4.1, 8.7, 4.8],\n",
        "              [2.7, 1.8, 9.1]])\n",
        "b = np.array([0.8, 5.7, 3.2])\n",
        "\n",
        "# модуль каждого диагонального элемента матрицы должен быть больше суммы модулей элементов той же строки\n",
        "def is_diagonally_dominant(matrix):\n",
        "    n = len(matrix)\n",
        "    for i in range(n):\n",
        "        diagonal_element = abs(matrix[i, i])\n",
        "        sum_of_other_elements = sum(abs(matrix[i, j]) for j in range(n) if j != i)\n",
        "        if diagonal_element <= sum_of_other_elements:\n",
        "            return False\n",
        "    return True\n",
        "\n",
        "print(\"Выполнение условия сходимости: \", is_diagonally_dominant(a))\n",
        "\n",
        "# Выполним преобразования матрицы: из второй строки вычтем третью\n",
        "a[1] -= a[2]\n",
        "b[1] -= b[2]\n",
        "# теперь условие сходимости выполняется\n",
        "print(\"\\nВыполнение условия сходимости после преобразования: \", is_diagonally_dominant(a))\n",
        "\n",
        "def jacobi_iteration(A, b, initial_guess, tolerance=1e-3, max_iterations=1000):\n",
        "    n = len(b)\n",
        "    x = np.copy(initial_guess)\n",
        "    iteration = 0 # счетчик итераций\n",
        "    results = []\n",
        "    while iteration < max_iterations:\n",
        "        x_new = np.copy(x)\n",
        "        for i in range(n):\n",
        "            x_new[i] = (b[i] - np.dot(A[i], x) + A[i, i] * x[i]) / A[i, i]\n",
        "        results.append(np.hstack([x_new, np.linalg.norm(x - x_new)]))\n",
        "        if np.linalg.norm(x_new - x, np.inf) < tolerance: #  если норма разности между текущим и предыдущим решениями станет меньше tolerance\n",
        "            break\n",
        "        x = x_new\n",
        "        iteration += 1\n",
        "\n",
        "    return pd.DataFrame(results, columns=['x1', 'x2', 'x3', 'Norm'])\n",
        "\n",
        "initial_guess = np.zeros(len(b))\n",
        "\n",
        "# Выполнение итераций методом Якоби\n",
        "iteration_table = jacobi_iteration(a, b, initial_guess)\n",
        "\n",
        "# Проверка полученного решения с точностью до 10^(-3)\n",
        "is_solution_close = np.allclose(np.dot(a, solution[['x1', 'x2', 'x3']]), b, atol=1e-3)\n",
        "print(\"\\nРешение близко к верному?\" , is_solution_close, \"\\n\")\n",
        "print(iteration_table)"
      ],
      "metadata": {
        "colab": {
          "base_uri": "https://localhost:8080/"
        },
        "id": "s9d9EykmPzjO",
        "outputId": "bf2f0d86-9ac6-45cc-a054-01adf2e8dd9a"
      },
      "execution_count": null,
      "outputs": [
        {
          "output_type": "stream",
          "name": "stdout",
          "text": [
            "Выполнение условия сходимости:  False\n",
            "\n",
            "Выполнение условия сходимости после преобразования:  True\n",
            "\n",
            "Решение близко к верному? True \n",
            "\n",
            "         x1        x2        x3      Norm\n",
            "0  0.109589  0.362319  0.351648  0.516664\n",
            "1 -0.129518  0.559227  0.247465  0.326801\n",
            "2 -0.146203  0.542816  0.279461  0.039641\n",
            "3 -0.153754  0.566140  0.287657  0.025850\n",
            "4 -0.163607  0.572780  0.285284  0.012117\n",
            "5 -0.164607  0.573300  0.286894  0.001966\n",
            "6 -0.165374  0.574506  0.287088  0.001443\n",
            "7 -0.165796  0.574783  0.287077  0.000504\n"
          ]
        }
      ]
    }
  ]
}