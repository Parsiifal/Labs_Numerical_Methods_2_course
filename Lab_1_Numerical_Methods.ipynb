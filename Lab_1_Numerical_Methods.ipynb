{
  "nbformat": 4,
  "nbformat_minor": 0,
  "metadata": {
    "colab": {
      "provenance": []
    },
    "kernelspec": {
      "name": "python3",
      "display_name": "Python 3"
    },
    "language_info": {
      "name": "python"
    }
  },
  "cells": [
    {
      "cell_type": "markdown",
      "source": [
        "# Лабораторная работа №1\n",
        "# Инкин Артем 6206-010302D\n",
        "# Вариант 3\n"
      ],
      "metadata": {
        "id": "zzcjralcxaH_"
      }
    },
    {
      "cell_type": "code",
      "source": [
        "import math\n",
        "import numpy as np\n",
        "import matplotlib.pyplot as plt\n",
        "import scipy as sp\n",
        "from scipy import integrate\n",
        "from scipy.integrate import dblquad"
      ],
      "metadata": {
        "id": "VOf5q6tTxr8R"
      },
      "execution_count": null,
      "outputs": []
    },
    {
      "cell_type": "markdown",
      "source": [
        "# 1. Выполнить умножение матриц\n",
        "$\\begin{pmatrix} 3 & 2 & 1 \\end{pmatrix}$$\\begin{pmatrix} 2 & 1 & 3 \\\\ 0 & 4 & 2 \\\\ 1 & 4 & -3 \\end{pmatrix}$"
      ],
      "metadata": {
        "id": "yLqTPmUp0z2Z"
      }
    },
    {
      "cell_type": "code",
      "source": [
        "vector = np.array([3, 2, 1], int)\n",
        "matrix = np.array([[2, 1, 3],\n",
        "                   [0, 4, 2],\n",
        "                   [1, 4, -3]], int)\n",
        "\n",
        "result = np.dot(vector, matrix)\n",
        "print(result)"
      ],
      "metadata": {
        "colab": {
          "base_uri": "https://localhost:8080/"
        },
        "id": "yAyOeKad2MKD",
        "outputId": "d55ba6ca-c929-4ae9-a4c7-cf4a53299082"
      },
      "execution_count": null,
      "outputs": [
        {
          "output_type": "stream",
          "name": "stdout",
          "text": [
            "[ 7 15 10]\n"
          ]
        }
      ]
    },
    {
      "cell_type": "markdown",
      "source": [
        "# 2. Решить\n",
        "\\begin{cases}\n",
        "3x_1 + x_2 + x_3 = 5 \\\\\n",
        "-2x_1 + 3x_2 + 4x_3 = 5 \\\\\n",
        "3x_1 + 2x_2 - 3x_3 = 2 \\\\\n",
        "\\end{cases}"
      ],
      "metadata": {
        "id": "zSs2c_cB3vGI"
      }
    },
    {
      "cell_type": "code",
      "source": [
        "M2 = np.array([[3, 1, 1], [-2, 3, 4], [3, 2, -3]], int) # Матрица (левая часть системы)\n",
        "v2 = np.array([5, 5, 2], int) # Вектор (правая часть системы)\n",
        "\n",
        "np.linalg.solve(M2, v2)"
      ],
      "metadata": {
        "colab": {
          "base_uri": "https://localhost:8080/"
        },
        "id": "JQzNtLo64pv8",
        "outputId": "e89fbc8a-5214-4580-d60c-eb208ef837ce"
      },
      "execution_count": null,
      "outputs": [
        {
          "output_type": "execute_result",
          "data": {
            "text/plain": [
              "array([1., 1., 1.])"
            ]
          },
          "metadata": {},
          "execution_count": 5
        }
      ]
    },
    {
      "cell_type": "markdown",
      "source": [
        "# 3. Вычислить определитель\n",
        "\\begin{vmatrix}\n",
        "2 & 3 & -4 & 3 \\\\\n",
        "2 & 0 & 3 & 1 \\\\\n",
        "2 & 2 & -1 & 3 \\\\\n",
        "4 & 6 & 2 & 5\n",
        "\\end{vmatrix}"
      ],
      "metadata": {
        "id": "1D7PxX1k5mf2"
      }
    },
    {
      "cell_type": "code",
      "source": [
        "matrix = np.array([[2, 3, -4, 3],\n",
        "                   [2, 0, 3, 1],\n",
        "                   [2, 2, -1, 3],\n",
        "                   [4, 6, 2, 5]])\n",
        "\n",
        "determinant = np.linalg.det(matrix)\n",
        "rounded_determinant = round(determinant)\n",
        "print(rounded_determinant)"
      ],
      "metadata": {
        "colab": {
          "base_uri": "https://localhost:8080/"
        },
        "id": "nFQFFuy56ZDe",
        "outputId": "2d5f5b1f-d910-4e87-97f5-471991e798f4"
      },
      "execution_count": null,
      "outputs": [
        {
          "output_type": "stream",
          "name": "stdout",
          "text": [
            "44\n"
          ]
        }
      ]
    },
    {
      "cell_type": "markdown",
      "source": [
        "# 4. Вычислить интеграл\n",
        "$$\\int \\frac{4x + 3}{x^2 - 4x + 3}\\, dx$$"
      ],
      "metadata": {
        "id": "dRADYgd07mCP"
      }
    },
    {
      "cell_type": "code",
      "source": [
        "from sympy import symbols, integrate\n",
        "\n",
        "x = symbols('x')\n",
        "f = 4*x + 3 / (x**2 - 4*x + 3)\n",
        "\n",
        "integral = integrate(f, x)\n",
        "print(integral)"
      ],
      "metadata": {
        "colab": {
          "base_uri": "https://localhost:8080/"
        },
        "id": "VSpEfM1P8QoG",
        "outputId": "74d8bc0a-d17f-4ce6-e7fe-1fb027eda975"
      },
      "execution_count": null,
      "outputs": [
        {
          "output_type": "stream",
          "name": "stdout",
          "text": [
            "2*x**2 + 3*log(x - 3)/2 - 3*log(x - 1)/2\n"
          ]
        }
      ]
    },
    {
      "cell_type": "markdown",
      "source": [
        "# 5. Вычислить\n",
        "$$\\int_{-1}^{1} dy \\int_{2y}^{y} (3x + 2y)e^y \\, dx$$"
      ],
      "metadata": {
        "id": "FuPr8I6M-JRD"
      }
    },
    {
      "cell_type": "code",
      "source": [
        "def f(x, y):\n",
        "    return (3*x + 2*y) * math.pi**y\n",
        "\n",
        "# Вычисление двойного интеграла\n",
        "integral, error = dblquad(f, -1, 1, lambda y: 2*y, lambda y: y)\n",
        "\n",
        "print(integral)"
      ],
      "metadata": {
        "colab": {
          "base_uri": "https://localhost:8080/"
        },
        "id": "4xefeSho-0Jn",
        "outputId": "d736ed19-5d41-49ed-e51b-71c2f1614f95"
      },
      "execution_count": null,
      "outputs": [
        {
          "output_type": "stream",
          "name": "stdout",
          "text": [
            "-6.174339439905557\n"
          ]
        }
      ]
    },
    {
      "cell_type": "markdown",
      "source": [
        "# 7. Найдите ЧП первого и второго порядка\n",
        "$z = (x^2 - 2xy)sin(x + y)$\n",
        "\n",
        "\n",
        "\n"
      ],
      "metadata": {
        "id": "143ULwRLCCKm"
      }
    },
    {
      "cell_type": "code",
      "source": [
        "from sympy import symbols, sin, cos, diff\n",
        "\n",
        "x, y = symbols('x y')\n",
        "z = (x**2 - 2*x*y) * sin(x + y)\n",
        "\n",
        "# первого порядка\n",
        "dz_dx = diff(z, x)\n",
        "dz_dy = diff(z, y)\n",
        "\n",
        "# второго порядка\n",
        "d2z_dx2 = diff(dz_dx, x)\n",
        "d2z_dy2 = diff(dz_dy, y)\n",
        "\n",
        "# смешанная производная\n",
        "d2z_dxdy = diff(dz_dx, y)\n",
        "\n",
        "print(\"Частная производная по x:\", dz_dx)\n",
        "print(\"Частная производная по y:\", dz_dy)\n",
        "print(\"Частная производная второго порядка по x:\", d2z_dx2)\n",
        "print(\"Частная производная второго порядка по y:\", d2z_dy2)\n",
        "print(\"Смешанная производная:\", d2z_dxdy)"
      ],
      "metadata": {
        "colab": {
          "base_uri": "https://localhost:8080/"
        },
        "id": "qmcE5JEVCPlc",
        "outputId": "0d97e83b-132c-401a-c124-0b6135e1839c"
      },
      "execution_count": null,
      "outputs": [
        {
          "output_type": "stream",
          "name": "stdout",
          "text": [
            "Частная производная по x: (2*x - 2*y)*sin(x + y) + (x**2 - 2*x*y)*cos(x + y)\n",
            "Частная производная по y: -2*x*sin(x + y) + (x**2 - 2*x*y)*cos(x + y)\n",
            "Частная производная второго порядка по x: 2*(2*x - 2*y)*cos(x + y) - (x**2 - 2*x*y)*sin(x + y) + 2*sin(x + y)\n",
            "Частная производная второго порядка по y: -4*x*cos(x + y) - (x**2 - 2*x*y)*sin(x + y)\n",
            "Смешанная производная: -2*x*cos(x + y) + (2*x - 2*y)*cos(x + y) - (x**2 - 2*x*y)*sin(x + y) - 2*sin(x + y)\n"
          ]
        }
      ]
    },
    {
      "cell_type": "code",
      "source": [
        "dz_dx"
      ],
      "metadata": {
        "colab": {
          "base_uri": "https://localhost:8080/",
          "height": 39
        },
        "id": "JIIeOzwpYO_G",
        "outputId": "24cde1d4-06f2-4677-839b-ea81b46b62b2"
      },
      "execution_count": null,
      "outputs": [
        {
          "output_type": "execute_result",
          "data": {
            "text/plain": [
              "(2*x - 2*y)*sin(x + y) + (x**2 - 2*x*y)*cos(x + y)"
            ],
            "text/latex": "$\\displaystyle \\left(2 x - 2 y\\right) \\sin{\\left(x + y \\right)} + \\left(x^{2} - 2 x y\\right) \\cos{\\left(x + y \\right)}$"
          },
          "metadata": {},
          "execution_count": 55
        }
      ]
    },
    {
      "cell_type": "code",
      "source": [
        "dz_dy"
      ],
      "metadata": {
        "colab": {
          "base_uri": "https://localhost:8080/",
          "height": 39
        },
        "id": "MVu3TjqfYYES",
        "outputId": "86adf23f-3cc5-4ab6-c699-f6bcde1909e4"
      },
      "execution_count": null,
      "outputs": [
        {
          "output_type": "execute_result",
          "data": {
            "text/plain": [
              "-2*x*sin(x + y) + (x**2 - 2*x*y)*cos(x + y)"
            ],
            "text/latex": "$\\displaystyle - 2 x \\sin{\\left(x + y \\right)} + \\left(x^{2} - 2 x y\\right) \\cos{\\left(x + y \\right)}$"
          },
          "metadata": {},
          "execution_count": 56
        }
      ]
    },
    {
      "cell_type": "code",
      "source": [
        "d2z_dx2"
      ],
      "metadata": {
        "colab": {
          "base_uri": "https://localhost:8080/",
          "height": 39
        },
        "id": "5MzmbwEbYZVu",
        "outputId": "14d2575b-a653-48b0-d14a-34b89af52282"
      },
      "execution_count": null,
      "outputs": [
        {
          "output_type": "execute_result",
          "data": {
            "text/plain": [
              "2*(2*x - 2*y)*cos(x + y) - (x**2 - 2*x*y)*sin(x + y) + 2*sin(x + y)"
            ],
            "text/latex": "$\\displaystyle 2 \\cdot \\left(2 x - 2 y\\right) \\cos{\\left(x + y \\right)} - \\left(x^{2} - 2 x y\\right) \\sin{\\left(x + y \\right)} + 2 \\sin{\\left(x + y \\right)}$"
          },
          "metadata": {},
          "execution_count": 57
        }
      ]
    },
    {
      "cell_type": "code",
      "source": [
        "d2z_dy2"
      ],
      "metadata": {
        "colab": {
          "base_uri": "https://localhost:8080/",
          "height": 39
        },
        "id": "K3WRyU6EYanr",
        "outputId": "00913b95-7aca-42ba-f956-e3e7d71d0c1b"
      },
      "execution_count": null,
      "outputs": [
        {
          "output_type": "execute_result",
          "data": {
            "text/plain": [
              "-4*x*cos(x + y) - (x**2 - 2*x*y)*sin(x + y)"
            ],
            "text/latex": "$\\displaystyle - 4 x \\cos{\\left(x + y \\right)} - \\left(x^{2} - 2 x y\\right) \\sin{\\left(x + y \\right)}$"
          },
          "metadata": {},
          "execution_count": 58
        }
      ]
    },
    {
      "cell_type": "code",
      "source": [
        "d2z_dxdy"
      ],
      "metadata": {
        "colab": {
          "base_uri": "https://localhost:8080/",
          "height": 39
        },
        "id": "esEODjGUYcMd",
        "outputId": "b1b749b8-4536-4c25-9770-e1da406bb358"
      },
      "execution_count": null,
      "outputs": [
        {
          "output_type": "execute_result",
          "data": {
            "text/plain": [
              "-2*x*cos(x + y) + (2*x - 2*y)*cos(x + y) - (x**2 - 2*x*y)*sin(x + y) - 2*sin(x + y)"
            ],
            "text/latex": "$\\displaystyle - 2 x \\cos{\\left(x + y \\right)} + \\left(2 x - 2 y\\right) \\cos{\\left(x + y \\right)} - \\left(x^{2} - 2 x y\\right) \\sin{\\left(x + y \\right)} - 2 \\sin{\\left(x + y \\right)}$"
          },
          "metadata": {},
          "execution_count": 59
        }
      ]
    },
    {
      "cell_type": "markdown",
      "source": [
        "# 8. Построить\n",
        "\\begin{cases}\n",
        "y =  Ln(5 - x) \\\\\n",
        "y = 3|x + 2| \\\\\n",
        "\\end{cases}"
      ],
      "metadata": {
        "id": "nJ7Wm1j5EGZP"
      }
    },
    {
      "cell_type": "code",
      "source": [
        "import numpy as np\n",
        "import matplotlib.pyplot as plt\n",
        "\n",
        "# Создание объектов артборда и холста\n",
        "plt.figure(figsize=(8, 5), dpi=80)\n",
        "ax = plt.subplot(111)\n",
        "\n",
        "# Удаление правой и верхней границ\n",
        "ax.spines['right'].set_color('none')\n",
        "ax.spines['top'].set_color('none')\n",
        "\n",
        "# Установка направления данных на координатной оси\n",
        "ax.xaxis.set_ticks_position('bottom')\n",
        "ax.spines['bottom'].set_position(('data', 0))\n",
        "ax.yaxis.set_ticks_position('left')\n",
        "ax.spines['left'].set_position(('data', 0))\n",
        "\n",
        "# Подготовка данных\n",
        "X = np.linspace(-2*np.pi, 2*np.pi, 256, endpoint=True)\n",
        "C = np.log(5 - X)\n",
        "L = 3 * np.abs(X + 2)\n",
        "\n",
        "plt.plot(X, C, color=\"blue\", linewidth=2.5, linestyle=\"-\", label=\"Ln Function\")\n",
        "plt.plot(X, L, color=\"red\", linewidth=2.5, linestyle=\"-\", label=\"Mod Function\")\n",
        "\n",
        "plt.legend(loc='upper left', frameon=False)\n",
        "plt.grid()\n",
        "plt.show()\n"
      ],
      "metadata": {
        "colab": {
          "base_uri": "https://localhost:8080/",
          "height": 376
        },
        "id": "Yidna7kSFKi3",
        "outputId": "3e2a02b8-a93d-4b63-a83c-f6634ef72644"
      },
      "execution_count": null,
      "outputs": [
        {
          "output_type": "stream",
          "name": "stderr",
          "text": [
            "<ipython-input-37-086a84d3df81>:20: RuntimeWarning: invalid value encountered in log\n",
            "  C = np.log(5 - X)\n"
          ]
        },
        {
          "output_type": "display_data",
          "data": {
            "text/plain": [
              "<Figure size 640x400 with 1 Axes>"
            ],
            "image/png": "[encoded data removed]"
          },
          "metadata": {}
        }
      ]
    },
    {
      "cell_type": "markdown",
      "source": [
        "# 9. Решить ДУ\n",
        "$(x + 2y)dx - xdy = 0$"
      ],
      "metadata": {
        "id": "7TImr0VSLLkA"
      }
    },
    {
      "cell_type": "code",
      "source": [
        "import sympy as sp\n",
        "\n",
        "x = sp.symbols('x')\n",
        "y = sp.Function('y')(x)\n",
        "equation = (x + 2*y)*sp.diff(x) - x*sp.diff(y)\n",
        "solution = dsolve(equation)\n",
        "print(solution)"
      ],
      "metadata": {
        "colab": {
          "base_uri": "https://localhost:8080/"
        },
        "id": "gbJ63xhPLWs6",
        "outputId": "20210a68-8818-49a9-fbad-6cb0c005f2e0"
      },
      "execution_count": null,
      "outputs": [
        {
          "output_type": "stream",
          "name": "stdout",
          "text": [
            "Eq(y(x), x*(C1*x - 1))\n"
          ]
        }
      ]
    }
  ]
}